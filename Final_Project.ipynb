{
 "cells": [
  {
   "cell_type": "markdown",
   "metadata": {},
   "source": [
    "# Project - The Battle of Neighborhoods\n",
    "### Coursera Final Project"
   ]
  },
  {
   "cell_type": "markdown",
   "metadata": {},
   "source": [
    "## Contents\n",
    "* [Business Problem](#introduction)\n",
    "* [Data Used](#data)"
   ]
  },
  {
   "cell_type": "markdown",
   "metadata": {},
   "source": [
    "## Business Problem <a name='introduction'></a>"
   ]
  },
  {
   "cell_type": "markdown",
   "metadata": {},
   "source": [
    "In this project we will try to find the optimal place to open a **Gas Station**, especially in the area of **East Jakarta.**\n",
    "\n",
    "In East Jakarta itself seems to have a **lot of gas stations**, to distinguish it, we will establish it near **tourism objects, city parks, restaurants and others.** We will also make it in accordance with a path that is close and easily reached from that place. and **far from several other gas stations.**\n",
    "\n",
    "We will use the power of data science to find some of the most favorable environmental criteria based on the above criteria. We will describe some of the most useful results so that they can be the best choice for stakeholders."
   ]
  },
  {
   "cell_type": "markdown",
   "metadata": {},
   "source": [
    "## The Data <a name='data'></a>"
   ]
  },
  {
   "cell_type": "markdown",
   "metadata": {},
   "source": [
    "Based on definition of our problem, there is some factors that influence our decision, such as:\n",
    "* Number of existing crowded object in the neighborhood\n",
    "* Distance gas station from the others\n",
    "\n",
    "Following data sources will be needed to extract/generate the required information:\n",
    "* Number of Crowded Objects in every neighborhood will be obtained using **Foursquare API**\n",
    "* Coordinates of East Jakarta will be obtained using **Google Maps API geocoding**"
   ]
  }
 ],
 "metadata": {
  "kernelspec": {
   "display_name": "Python 3",
   "language": "python",
   "name": "python3"
  },
  "language_info": {
   "codemirror_mode": {
    "name": "ipython",
    "version": 3
   },
   "file_extension": ".py",
   "mimetype": "text/x-python",
   "name": "python",
   "nbconvert_exporter": "python",
   "pygments_lexer": "ipython3",
   "version": "3.7.4"
  }
 },
 "nbformat": 4,
 "nbformat_minor": 4
}
